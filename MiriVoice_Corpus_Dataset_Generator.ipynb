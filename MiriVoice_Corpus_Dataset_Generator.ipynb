{
  "nbformat": 4,
  "nbformat_minor": 0,
  "metadata": {
    "colab": {
      "provenance": [],
      "authorship_tag": "ABX9TyPBimK9jaqR/AusfksZJK8A",
      "include_colab_link": true
    },
    "kernelspec": {
      "name": "python3",
      "display_name": "Python 3"
    },
    "language_info": {
      "name": "python"
    }
  },
  "cells": [
    {
      "cell_type": "markdown",
      "metadata": {
        "id": "view-in-github",
        "colab_type": "text"
      },
      "source": [
        "<a href=\"https://colab.research.google.com/github/EX3exp/MiriVoiceSupport-CorpusManager/blob/main/MiriVoice_Corpus_Dataset_Generator.ipynb\" target=\"_parent\"><img src=\"https://colab.research.google.com/assets/colab-badge.svg\" alt=\"Open In Colab\"/></a>"
      ]
    },
    {
      "cell_type": "code",
      "execution_count": null,
      "metadata": {
        "id": "QJ2xe05OMz9V",
        "cellView": "form"
      },
      "outputs": [],
      "source": [
        "#@title 1. Set Up | 환경 설치\n",
        "#@markdown You Don't need to use GPU in this Notebook. CPU is enough!\n",
        "#@markdown <br> 이 노트북은 CPU로도 충분히 굴러갑니다. GPU를 켜지 마세요!\n",
        "\n",
        "print(f\"🔸 1. Cloning MiriVoiceSupport-CorpusManager Github...\")\n",
        "!git clone https://github.com/EX3exp/MiriVoiceSupport-CorpusManager.git\n",
        "\n",
        "print(f\"✔️ Done!\")\n"
      ]
    },
    {
      "cell_type": "code",
      "source": [
        "#@title MiriVoice Dataset Generator Notebook <br> 코퍼스로부터 데이터셋을 생성하는 콜랍 노트북이에요.\n",
        "#@markdown <br>MiriVoice Github ➡️ https://github.com/EX3exp/MiriVoice\n",
        "\n",
        "#@markdown 📖 [EN] Please select Notebook's language. <br> Messages will be appeared with selected language.\n",
        "#@markdown <br>📖 [KO] 노트북의 언어를 골라 주세요. <br> 설정된 언어로 노트북의 메시지들이 표시됩니다.\n",
        "language = \"한국어\" #@param = [\"English\", \"한국어\"]\n",
        "\n",
        "#@markdown 📖 [EN] Please select Model that you're going to train.\n",
        "#@markdown <br>📖 [KO] 훈련할 모델을 선택해 주세요.\n",
        "model_type = \"VITS2\" #@param = [\"VITS2\"]\n",
        "import json\n",
        "import yaml"
      ],
      "metadata": {
        "cellView": "form",
        "id": "YXY9PVTyNSAO"
      },
      "execution_count": 2,
      "outputs": []
    },
    {
      "cell_type": "code",
      "source": [
        "#@title 0-1. Mount Google Drive | 구글 드라이브 마운트\n",
        "from google.colab import drive\n",
        "drive.mount('/content/drive')\n",
        "import os\n",
        "\n",
        "dir_paths = [f\"/content/drive/MyDrive/MiriVoice/{model_type}/train/dataset\", f\"/content/drive/MyDrive/MiriVoice/{model_type}/train/recorded\", f\"/content/drive/MyDrive/MiriVoice/{model_type}/voicer\", f\"/content/drive/MyDrive/MiriVoice/{model_type}/checkpoints\"]\n",
        "\n",
        "train_main_path = \"/content/train\"\n",
        "\n",
        "if (language == \"English\"):\n",
        "    print(f\"✔️ Generated Directory in colab runtime -- {train_main_path}\")\n",
        "elif (language == \"한국어\"):\n",
        "    print(f\"✔️ 코랩 런타임 내에 폴더를 생성했어요 -- {train_main_path}\")\n",
        "\n",
        "os.makedirs(\"dir_path\", exist_ok=True)\n",
        "for dir_path in dir_paths:\n",
        "    os.makedirs(dir_path, exist_ok=True)\n",
        "    if (language == \"English\"):\n",
        "        print(f\"✔️ Generated Directory in google drive -- {dir_path}\")\n",
        "    elif (language == \"한국어\"):\n",
        "        print(f\"✔️ 구글 드라이브에 폴더를 생성했어요 -- {dir_path}\")\n"
      ],
      "metadata": {
        "cellView": "form",
        "id": "lpyAhkiGnZy5"
      },
      "execution_count": null,
      "outputs": []
    },
    {
      "cell_type": "code",
      "source": [
        "#@title 1. Upload recorded.zip | recorded.zip 업로드\n",
        "#@markdown ⚠️ Before Run this cell, Please Go to Google Drive, Upload your `recorded.zip` in MiriVoice/VITS2/train/recorded.\n",
        "#@markdown <br> ⚠️ 이 셀을 실행하기 전, 구글 드라이브로 가서, 반드시 `recorded.zip`을 MiriVoice/VITS2/train/recorded 안에 업로드해 주세요.\n",
        "import shutil\n",
        "if os.path.isfile(\"/content/drive/MyDrive/MiriVoice/VITS2/train/recorded/recorded.zip\"):\n",
        "    shutil.move(f\"/content/drive/MyDrive/MiriVoice/VITS2/train/recorded/recorded.zip\", \"/content/MiriVoiceSupport-CorpusManager\")\n",
        "else :\n",
        "    if (language == \"English\"):\n",
        "        print(f\"🤔 There's no recorded.zip in Google Drive's MiriVoice/VITS2/train/recorded... Cannot generate dataset.zip.\")\n",
        "    elif (language == \"한국어\"):\n",
        "        print(f\"🤔 구글 드라이브의 MiriVoice/VITS2/train/recorded 에 recorded.zip이 없어요... dataset.zip을 만들 수 없어요.\")"
      ],
      "metadata": {
        "id": "ZXkg8U94mLPh",
        "cellView": "form"
      },
      "execution_count": 10,
      "outputs": []
    },
    {
      "cell_type": "code",
      "source": [
        "#@title 2. dataset.zip generation | dataset.zip 생성\n",
        "import os\n",
        "os.chdir(\"/content/MiriVoiceSupport-CorpusManager/\")\n",
        "!python utils/pack_dataset.py /content/MiriVoiceSupport-CorpusManager/recorded.zip\n",
        "\n",
        "!cd \"/content/MiriVoiceSupport-CorpusManager/dataset\" && zip -r /content/drive/MyDrive/MiriVoice/{model_type}/train/dataset/dataset.zip ./*\n",
        "if (language == \"English\"):\n",
        "    print(f\"✔️ Generated dataset.zip in google drive -- MiriVoice/{model_type}/train/dataset/dataset.zip\")\n",
        "elif (language == \"한국어\"):\n",
        "    print(f\"✔️ 구글 드라이브에 dataset.zip을 생성했어요 -- MiriVoice/{model_type}/train/dataset/dataset.zip\")\n",
        "shutil.move(\"/content/MiriVoiceSupport-CorpusManager/recorded.zip\", \"/content/drive/MyDrive/MiriVoice/VITS2/train/recorded/\")\n"
      ],
      "metadata": {
        "id": "wTbscTObmrkP",
        "cellView": "form"
      },
      "execution_count": null,
      "outputs": []
    }
  ]
}